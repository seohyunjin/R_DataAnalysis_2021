{
 "metadata": {
  "language_info": {
   "codemirror_mode": {
    "name": "ipython",
    "version": 3
   },
   "file_extension": ".py",
   "mimetype": "text/x-python",
   "name": "python",
   "nbconvert_exporter": "python",
   "pygments_lexer": "ipython3",
   "version": 3
  },
  "orig_nbformat": 2
 },
 "nbformat": 4,
 "nbformat_minor": 2,
 "cells": [
  {
   "source": [
    "# R 프로그래밍 언어\n",
    "\n",
    "통계, 기계학습, 데이터 분석과 관련된 다양한 기능을 지원하는 패키지가 수시로 업데이트되는 오픈소스 프로그램\n"
   ],
   "cell_type": "markdown",
   "metadata": {}
  },
  {
   "source": [
    "## R 특징 \n",
    "\n",
    "### 1. 오픈소스 프로그램\n",
    "- 무료이용 가능\n",
    "- CRAN통해 코드 공유\n",
    "\n",
    "### 2. 우수한 그래픽 지원 기능\n",
    "\n",
    "### 3. 데이터 저장 방식\n",
    "- 매번 로딩할 필요 x\n",
    "- 명령어 히스토리 저장 가능\n",
    "\n",
    "### 4. 모든 운영체제에서 사용 가능\n",
    "- 맥, 윈도우, 리눅스\n",
    "\n",
    "### 5. 표준 플랫폼\n",
    "\n",
    "### 6. 객체지향 언어와 함수형 언어의 특징 모두 지님\n"
   ],
   "cell_type": "markdown",
   "metadata": {}
  }
 ]
}