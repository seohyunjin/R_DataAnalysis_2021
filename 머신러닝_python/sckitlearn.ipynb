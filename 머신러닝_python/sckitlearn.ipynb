{
 "metadata": {
  "language_info": {
   "codemirror_mode": {
    "name": "ipython",
    "version": 3
   },
   "file_extension": ".py",
   "mimetype": "text/x-python",
   "name": "python",
   "nbconvert_exporter": "python",
   "pygments_lexer": "ipython3",
   "version": "3.8.10"
  },
  "orig_nbformat": 4,
  "kernelspec": {
   "name": "python3",
   "display_name": "Python 3.8.10 64-bit ('pythonHK': conda)"
  },
  "interpreter": {
   "hash": "62451998a06cf5ba2746f3d8b4c2b71aad3b2e1f1be2af1479ae958b50a1bdcf"
  }
 },
 "nbformat": 4,
 "nbformat_minor": 2,
 "cells": [
  {
   "source": [
    "**mtcars 데이터셋(mtcars.csv)의 qsec 컬럼을 최소 최대 척도(min-max scale)로 변환한 후 0.5보다 큰 값을 가지는 레코드 수를 구하시오.**"
   ],
   "cell_type": "markdown",
   "metadata": {}
  },
  {
   "cell_type": "code",
   "execution_count": 5,
   "metadata": {},
   "outputs": [
    {
     "output_type": "stream",
     "name": "stdout",
     "text": [
      "9\n"
     ]
    }
   ],
   "source": [
    "import pandas as pd\n",
    "from sklearn.preprocessing import minmax_scale\n",
    "\n",
    "df = pd.read_csv('mtcars.csv')\n",
    "scaled_qsec = minmax_scale(df['qsec'])\n",
    "print(len(df[scaled_qsec>0.5]))"
   ]
  },
  {
   "cell_type": "code",
   "execution_count": null,
   "metadata": {},
   "outputs": [],
   "source": [
    "mtcars 데이터셋(mtcars.csv)의 qsec 컬럼을 표준정규분포 데이터 표준화 (standardization) 변환 후 최대, 최소값을 각각 구하시오"
   ]
  },
  {
   "cell_type": "code",
   "execution_count": 11,
   "metadata": {},
   "outputs": [
    {
     "output_type": "execute_result",
     "data": {
      "text/plain": [
       "(array([-1.90399635]), array([2.87198554]))"
      ]
     },
     "metadata": {},
     "execution_count": 11
    }
   ],
   "source": [
    "from sklearn.preprocessing import StandardScaler\n",
    "\n",
    "scaler = StandardScaler()\n",
    "qsec_std = scaler.fit_transform(df['qsec'].values.reshape(-1,1)) #1차원이라 reshape해줘야함!\n",
    "\n",
    "min_v = min(qsec_std)\n",
    "max_v = max(qsec_std)\n",
    "min_v, max_v"
   ]
  },
  {
   "source": [
    "mtcars 데이터셋에서 mpg변수를 제외하고 데이터 정규화 (standardscaler) 과정을 진행한 이후 PCA를 통해 변수 축소를 하려한다. 누적설명 분산량이 92%를 넘기기 위해서는 몇개의 주성분을 선택해야하는지 설명하라"
   ],
   "cell_type": "markdown",
   "metadata": {}
  },
  {
   "cell_type": "code",
   "execution_count": 17,
   "metadata": {},
   "outputs": [
    {
     "output_type": "execute_result",
     "data": {
      "text/plain": [
       "    cyl   disp   hp  drat     wt   qsec  vs  am  gear  carb\n",
       "0     6  160.0  110  3.90  2.620  16.46   0   1     4     4\n",
       "1     6  160.0  110  3.90  2.875  17.02   0   1     4     4\n",
       "2     4  108.0   93  3.85  2.320  18.61   1   1     4     1\n",
       "3     6  258.0  110  3.08  3.215  19.44   1   0     3     1\n",
       "4     8  360.0  175  3.15  3.440  17.02   0   0     3     2\n",
       "5     6  225.0  105  2.76  3.460  20.22   1   0     3     1\n",
       "6     8  360.0  245  3.21  3.570  15.84   0   0     3     4\n",
       "7     4  146.7   62  3.69  3.190  20.00   1   0     4     2\n",
       "8     4  140.8   95  3.92  3.150  22.90   1   0     4     2\n",
       "9     6  167.6  123  3.92  3.440  18.30   1   0     4     4\n",
       "10    6  167.6  123  3.92  3.440  18.90   1   0     4     4\n",
       "11    8  275.8  180  3.07  4.070  17.40   0   0     3     3\n",
       "12    8  275.8  180  3.07  3.730  17.60   0   0     3     3\n",
       "13    8  275.8  180  3.07  3.780  18.00   0   0     3     3\n",
       "14    8  472.0  205  2.93  5.250  17.98   0   0     3     4\n",
       "15    8  460.0  215  3.00  5.424  17.82   0   0     3     4\n",
       "16    8  440.0  230  3.23  5.345  17.42   0   0     3     4\n",
       "17    4   78.7   66  4.08  2.200  19.47   1   1     4     1\n",
       "18    4   75.7   52  4.93  1.615  18.52   1   1     4     2\n",
       "19    4   71.1   65  4.22  1.835  19.90   1   1     4     1\n",
       "20    4  120.1   97  3.70  2.465  20.01   1   0     3     1\n",
       "21    8  318.0  150  2.76  3.520  16.87   0   0     3     2\n",
       "22    8  304.0  150  3.15  3.435  17.30   0   0     3     2\n",
       "23    8  350.0  245  3.73  3.840  15.41   0   0     3     4\n",
       "24    8  400.0  175  3.08  3.845  17.05   0   0     3     2\n",
       "25    4   79.0   66  4.08  1.935  18.90   1   1     4     1\n",
       "26    4  120.3   91  4.43  2.140  16.70   0   1     5     2\n",
       "27    4   95.1  113  3.77  1.513  16.90   1   1     5     2\n",
       "28    8  351.0  264  4.22  3.170  14.50   0   1     5     4\n",
       "29    6  145.0  175  3.62  2.770  15.50   0   1     5     6\n",
       "30    8  301.0  335  3.54  3.570  14.60   0   1     5     8\n",
       "31    4  121.0  109  4.11  2.780  18.60   1   1     4     2"
      ],
      "text/html": "<div>\n<style scoped>\n    .dataframe tbody tr th:only-of-type {\n        vertical-align: middle;\n    }\n\n    .dataframe tbody tr th {\n        vertical-align: top;\n    }\n\n    .dataframe thead th {\n        text-align: right;\n    }\n</style>\n<table border=\"1\" class=\"dataframe\">\n  <thead>\n    <tr style=\"text-align: right;\">\n      <th></th>\n      <th>cyl</th>\n      <th>disp</th>\n      <th>hp</th>\n      <th>drat</th>\n      <th>wt</th>\n      <th>qsec</th>\n      <th>vs</th>\n      <th>am</th>\n      <th>gear</th>\n      <th>carb</th>\n    </tr>\n  </thead>\n  <tbody>\n    <tr>\n      <th>0</th>\n      <td>6</td>\n      <td>160.0</td>\n      <td>110</td>\n      <td>3.90</td>\n      <td>2.620</td>\n      <td>16.46</td>\n      <td>0</td>\n      <td>1</td>\n      <td>4</td>\n      <td>4</td>\n    </tr>\n    <tr>\n      <th>1</th>\n      <td>6</td>\n      <td>160.0</td>\n      <td>110</td>\n      <td>3.90</td>\n      <td>2.875</td>\n      <td>17.02</td>\n      <td>0</td>\n      <td>1</td>\n      <td>4</td>\n      <td>4</td>\n    </tr>\n    <tr>\n      <th>2</th>\n      <td>4</td>\n      <td>108.0</td>\n      <td>93</td>\n      <td>3.85</td>\n      <td>2.320</td>\n      <td>18.61</td>\n      <td>1</td>\n      <td>1</td>\n      <td>4</td>\n      <td>1</td>\n    </tr>\n    <tr>\n      <th>3</th>\n      <td>6</td>\n      <td>258.0</td>\n      <td>110</td>\n      <td>3.08</td>\n      <td>3.215</td>\n      <td>19.44</td>\n      <td>1</td>\n      <td>0</td>\n      <td>3</td>\n      <td>1</td>\n    </tr>\n    <tr>\n      <th>4</th>\n      <td>8</td>\n      <td>360.0</td>\n      <td>175</td>\n      <td>3.15</td>\n      <td>3.440</td>\n      <td>17.02</td>\n      <td>0</td>\n      <td>0</td>\n      <td>3</td>\n      <td>2</td>\n    </tr>\n    <tr>\n      <th>5</th>\n      <td>6</td>\n      <td>225.0</td>\n      <td>105</td>\n      <td>2.76</td>\n      <td>3.460</td>\n      <td>20.22</td>\n      <td>1</td>\n      <td>0</td>\n      <td>3</td>\n      <td>1</td>\n    </tr>\n    <tr>\n      <th>6</th>\n      <td>8</td>\n      <td>360.0</td>\n      <td>245</td>\n      <td>3.21</td>\n      <td>3.570</td>\n      <td>15.84</td>\n      <td>0</td>\n      <td>0</td>\n      <td>3</td>\n      <td>4</td>\n    </tr>\n    <tr>\n      <th>7</th>\n      <td>4</td>\n      <td>146.7</td>\n      <td>62</td>\n      <td>3.69</td>\n      <td>3.190</td>\n      <td>20.00</td>\n      <td>1</td>\n      <td>0</td>\n      <td>4</td>\n      <td>2</td>\n    </tr>\n    <tr>\n      <th>8</th>\n      <td>4</td>\n      <td>140.8</td>\n      <td>95</td>\n      <td>3.92</td>\n      <td>3.150</td>\n      <td>22.90</td>\n      <td>1</td>\n      <td>0</td>\n      <td>4</td>\n      <td>2</td>\n    </tr>\n    <tr>\n      <th>9</th>\n      <td>6</td>\n      <td>167.6</td>\n      <td>123</td>\n      <td>3.92</td>\n      <td>3.440</td>\n      <td>18.30</td>\n      <td>1</td>\n      <td>0</td>\n      <td>4</td>\n      <td>4</td>\n    </tr>\n    <tr>\n      <th>10</th>\n      <td>6</td>\n      <td>167.6</td>\n      <td>123</td>\n      <td>3.92</td>\n      <td>3.440</td>\n      <td>18.90</td>\n      <td>1</td>\n      <td>0</td>\n      <td>4</td>\n      <td>4</td>\n    </tr>\n    <tr>\n      <th>11</th>\n      <td>8</td>\n      <td>275.8</td>\n      <td>180</td>\n      <td>3.07</td>\n      <td>4.070</td>\n      <td>17.40</td>\n      <td>0</td>\n      <td>0</td>\n      <td>3</td>\n      <td>3</td>\n    </tr>\n    <tr>\n      <th>12</th>\n      <td>8</td>\n      <td>275.8</td>\n      <td>180</td>\n      <td>3.07</td>\n      <td>3.730</td>\n      <td>17.60</td>\n      <td>0</td>\n      <td>0</td>\n      <td>3</td>\n      <td>3</td>\n    </tr>\n    <tr>\n      <th>13</th>\n      <td>8</td>\n      <td>275.8</td>\n      <td>180</td>\n      <td>3.07</td>\n      <td>3.780</td>\n      <td>18.00</td>\n      <td>0</td>\n      <td>0</td>\n      <td>3</td>\n      <td>3</td>\n    </tr>\n    <tr>\n      <th>14</th>\n      <td>8</td>\n      <td>472.0</td>\n      <td>205</td>\n      <td>2.93</td>\n      <td>5.250</td>\n      <td>17.98</td>\n      <td>0</td>\n      <td>0</td>\n      <td>3</td>\n      <td>4</td>\n    </tr>\n    <tr>\n      <th>15</th>\n      <td>8</td>\n      <td>460.0</td>\n      <td>215</td>\n      <td>3.00</td>\n      <td>5.424</td>\n      <td>17.82</td>\n      <td>0</td>\n      <td>0</td>\n      <td>3</td>\n      <td>4</td>\n    </tr>\n    <tr>\n      <th>16</th>\n      <td>8</td>\n      <td>440.0</td>\n      <td>230</td>\n      <td>3.23</td>\n      <td>5.345</td>\n      <td>17.42</td>\n      <td>0</td>\n      <td>0</td>\n      <td>3</td>\n      <td>4</td>\n    </tr>\n    <tr>\n      <th>17</th>\n      <td>4</td>\n      <td>78.7</td>\n      <td>66</td>\n      <td>4.08</td>\n      <td>2.200</td>\n      <td>19.47</td>\n      <td>1</td>\n      <td>1</td>\n      <td>4</td>\n      <td>1</td>\n    </tr>\n    <tr>\n      <th>18</th>\n      <td>4</td>\n      <td>75.7</td>\n      <td>52</td>\n      <td>4.93</td>\n      <td>1.615</td>\n      <td>18.52</td>\n      <td>1</td>\n      <td>1</td>\n      <td>4</td>\n      <td>2</td>\n    </tr>\n    <tr>\n      <th>19</th>\n      <td>4</td>\n      <td>71.1</td>\n      <td>65</td>\n      <td>4.22</td>\n      <td>1.835</td>\n      <td>19.90</td>\n      <td>1</td>\n      <td>1</td>\n      <td>4</td>\n      <td>1</td>\n    </tr>\n    <tr>\n      <th>20</th>\n      <td>4</td>\n      <td>120.1</td>\n      <td>97</td>\n      <td>3.70</td>\n      <td>2.465</td>\n      <td>20.01</td>\n      <td>1</td>\n      <td>0</td>\n      <td>3</td>\n      <td>1</td>\n    </tr>\n    <tr>\n      <th>21</th>\n      <td>8</td>\n      <td>318.0</td>\n      <td>150</td>\n      <td>2.76</td>\n      <td>3.520</td>\n      <td>16.87</td>\n      <td>0</td>\n      <td>0</td>\n      <td>3</td>\n      <td>2</td>\n    </tr>\n    <tr>\n      <th>22</th>\n      <td>8</td>\n      <td>304.0</td>\n      <td>150</td>\n      <td>3.15</td>\n      <td>3.435</td>\n      <td>17.30</td>\n      <td>0</td>\n      <td>0</td>\n      <td>3</td>\n      <td>2</td>\n    </tr>\n    <tr>\n      <th>23</th>\n      <td>8</td>\n      <td>350.0</td>\n      <td>245</td>\n      <td>3.73</td>\n      <td>3.840</td>\n      <td>15.41</td>\n      <td>0</td>\n      <td>0</td>\n      <td>3</td>\n      <td>4</td>\n    </tr>\n    <tr>\n      <th>24</th>\n      <td>8</td>\n      <td>400.0</td>\n      <td>175</td>\n      <td>3.08</td>\n      <td>3.845</td>\n      <td>17.05</td>\n      <td>0</td>\n      <td>0</td>\n      <td>3</td>\n      <td>2</td>\n    </tr>\n    <tr>\n      <th>25</th>\n      <td>4</td>\n      <td>79.0</td>\n      <td>66</td>\n      <td>4.08</td>\n      <td>1.935</td>\n      <td>18.90</td>\n      <td>1</td>\n      <td>1</td>\n      <td>4</td>\n      <td>1</td>\n    </tr>\n    <tr>\n      <th>26</th>\n      <td>4</td>\n      <td>120.3</td>\n      <td>91</td>\n      <td>4.43</td>\n      <td>2.140</td>\n      <td>16.70</td>\n      <td>0</td>\n      <td>1</td>\n      <td>5</td>\n      <td>2</td>\n    </tr>\n    <tr>\n      <th>27</th>\n      <td>4</td>\n      <td>95.1</td>\n      <td>113</td>\n      <td>3.77</td>\n      <td>1.513</td>\n      <td>16.90</td>\n      <td>1</td>\n      <td>1</td>\n      <td>5</td>\n      <td>2</td>\n    </tr>\n    <tr>\n      <th>28</th>\n      <td>8</td>\n      <td>351.0</td>\n      <td>264</td>\n      <td>4.22</td>\n      <td>3.170</td>\n      <td>14.50</td>\n      <td>0</td>\n      <td>1</td>\n      <td>5</td>\n      <td>4</td>\n    </tr>\n    <tr>\n      <th>29</th>\n      <td>6</td>\n      <td>145.0</td>\n      <td>175</td>\n      <td>3.62</td>\n      <td>2.770</td>\n      <td>15.50</td>\n      <td>0</td>\n      <td>1</td>\n      <td>5</td>\n      <td>6</td>\n    </tr>\n    <tr>\n      <th>30</th>\n      <td>8</td>\n      <td>301.0</td>\n      <td>335</td>\n      <td>3.54</td>\n      <td>3.570</td>\n      <td>14.60</td>\n      <td>0</td>\n      <td>1</td>\n      <td>5</td>\n      <td>8</td>\n    </tr>\n    <tr>\n      <th>31</th>\n      <td>4</td>\n      <td>121.0</td>\n      <td>109</td>\n      <td>4.11</td>\n      <td>2.780</td>\n      <td>18.60</td>\n      <td>1</td>\n      <td>1</td>\n      <td>4</td>\n      <td>2</td>\n    </tr>\n  </tbody>\n</table>\n</div>"
     },
     "metadata": {},
     "execution_count": 17
    }
   ],
   "source": [
    "pcaDf= df.iloc[:,2:] ; pcaDf# mpg변수를 제외하고"
   ]
  },
  {
   "cell_type": "code",
   "execution_count": 19,
   "metadata": {},
   "outputs": [],
   "source": [
    "# from sklearn.preprocessing import StandardScaler\n",
    "pcaDf = StandardScaler().fit_transform(pcaDf)  # 데이터 정규화"
   ]
  },
  {
   "cell_type": "code",
   "execution_count": 57,
   "metadata": {},
   "outputs": [
    {
     "output_type": "execute_result",
     "data": {
      "text/plain": [
       "    component0  component1  component2  component3  component4  component5  \\\n",
       "0     0.632134    1.739877   -0.665110    0.100862   -0.927621    0.051528   \n",
       "1     0.605027    1.554343   -0.434619    0.190621   -1.033729   -0.156044   \n",
       "2     2.801549   -0.122632   -0.414510   -0.263449    0.446730   -0.507376   \n",
       "3     0.259204   -2.364265   -0.095090   -0.505929    0.552199   -0.035541   \n",
       "4    -2.032508   -0.774822   -1.016381    0.081071    0.200412    0.163234   \n",
       "5     0.204867   -2.778790    0.093328   -0.995552    0.227545   -0.323183   \n",
       "6    -2.846324    0.318210   -0.324108   -0.053138    0.423729    0.686200   \n",
       "7     1.938647   -1.454239    0.955656   -0.138849   -0.349183    0.073207   \n",
       "8     2.300271   -1.963602    1.751220    0.299541   -0.408112   -0.255902   \n",
       "9     0.636986   -0.150858    1.434045    0.066155    0.010042    0.845973   \n",
       "10    0.712003   -0.308009    1.571549    0.090629   -0.062764    0.746137   \n",
       "11   -2.168500   -0.698349   -0.318649   -0.132449   -0.380210    0.193121   \n",
       "12   -2.013998   -0.698920   -0.409019   -0.213513   -0.353604    0.312365   \n",
       "13   -1.983030   -0.811307   -0.297320   -0.184076   -0.409623    0.223378   \n",
       "14   -3.540037   -0.841191    0.646830    0.299781   -0.144468   -0.895457   \n",
       "15   -3.597893   -0.747153    0.725851    0.417433   -0.092404   -0.875780   \n",
       "16   -3.493731   -0.445347    0.702793    0.696399    0.074896   -0.605711   \n",
       "17    3.329571   -0.292943   -0.277423    0.073323    0.112670   -0.421673   \n",
       "18    3.883988    0.704290   -0.202656    1.186911    0.133843    0.540753   \n",
       "19    3.636227   -0.276133   -0.292044    0.206366    0.113590   -0.245487   \n",
       "20    1.962264   -2.101797    0.030140    0.037593    0.162210    0.672144   \n",
       "21   -2.048033   -1.026281   -1.177374   -0.604969   -0.181947    0.089924   \n",
       "22   -1.682576   -0.913388   -1.014237   -0.008073   -0.183926    0.270837   \n",
       "23   -2.658623    0.669277   -0.184127    0.821191    0.509528    0.897013   \n",
       "24   -2.354816   -0.899123   -0.869987    0.161906    0.233469   -0.171734   \n",
       "25    3.358263   -0.103399   -0.514251   -0.018818    0.222321   -0.208830   \n",
       "26    2.440051    2.057439   -0.881101    0.568156   -0.621810   -0.300175   \n",
       "27    2.946328    1.383718   -0.355847   -1.159294    0.678108   -0.024936   \n",
       "28   -1.212566    3.498277   -0.197467    0.600021    1.124186   -0.342886   \n",
       "29    0.014182    3.221361    0.374340   -0.959536   -0.853213    0.081124   \n",
       "30   -2.541137    4.366990    1.428770   -0.874904    0.415883   -0.011549   \n",
       "31    2.512210    0.258768    0.226798    0.214592    0.361254   -0.464676   \n",
       "\n",
       "    component6  component7  component8  component9  \n",
       "0    -0.400939   -0.177965   -0.067495   -0.163161  \n",
       "1    -0.421950   -0.085054   -0.125251   -0.071543  \n",
       "2    -0.291290   -0.084116    0.162350    0.181756  \n",
       "3    -0.058233   -0.188187   -0.101924   -0.166531  \n",
       "4     0.285340    0.116682   -0.108244   -0.181168  \n",
       "5    -0.150440   -0.045932   -0.154474    0.033869  \n",
       "6    -0.201259    0.179319    0.362386   -0.195036  \n",
       "7     0.641096   -0.374506    0.239646   -0.031233  \n",
       "8     0.542837    0.935339   -0.061213   -0.130912  \n",
       "9     0.168722   -0.543588   -0.260493    0.124549  \n",
       "10    0.155767   -0.340193   -0.343927    0.071815  \n",
       "11   -0.104051    0.091823   -0.060831    0.389843  \n",
       "12   -0.096477    0.288854   -0.115464    0.184484  \n",
       "13   -0.106863    0.405446   -0.167143    0.176943  \n",
       "14   -0.091503   -0.234988    0.052358   -0.258041  \n",
       "15   -0.121889   -0.248904    0.121949   -0.036876  \n",
       "16   -0.147697   -0.182902    0.201483    0.145296  \n",
       "17   -0.305017    0.070160   -0.116413    0.129409  \n",
       "18   -0.410649   -0.133756   -0.228625   -0.282043  \n",
       "19   -0.304007    0.365579   -0.231154   -0.056534  \n",
       "20   -0.164937    0.306503    0.606158   -0.031204  \n",
       "21    0.225311   -0.162343   -0.117839   -0.019935  \n",
       "22    0.220226    0.061937   -0.246339    0.014154  \n",
       "23   -0.185740   -0.017670    0.359389    0.101728  \n",
       "24    0.331052   -0.079515   -0.075497   -0.191597  \n",
       "25   -0.282955   -0.022693   -0.058105    0.031465  \n",
       "26    1.030298    0.014321    0.403521    0.121686  \n",
       "27    0.467431   -0.239450    0.166930   -0.100088  \n",
       "28    0.664866    0.153216   -0.426021    0.129397  \n",
       "29    0.024243   -0.114836    0.137882   -0.052590  \n",
       "30   -0.409474    0.456812    0.026336   -0.091492  \n",
       "31   -0.501820   -0.169392    0.226064    0.223587  "
      ],
      "text/html": "<div>\n<style scoped>\n    .dataframe tbody tr th:only-of-type {\n        vertical-align: middle;\n    }\n\n    .dataframe tbody tr th {\n        vertical-align: top;\n    }\n\n    .dataframe thead th {\n        text-align: right;\n    }\n</style>\n<table border=\"1\" class=\"dataframe\">\n  <thead>\n    <tr style=\"text-align: right;\">\n      <th></th>\n      <th>component0</th>\n      <th>component1</th>\n      <th>component2</th>\n      <th>component3</th>\n      <th>component4</th>\n      <th>component5</th>\n      <th>component6</th>\n      <th>component7</th>\n      <th>component8</th>\n      <th>component9</th>\n    </tr>\n  </thead>\n  <tbody>\n    <tr>\n      <th>0</th>\n      <td>0.632134</td>\n      <td>1.739877</td>\n      <td>-0.665110</td>\n      <td>0.100862</td>\n      <td>-0.927621</td>\n      <td>0.051528</td>\n      <td>-0.400939</td>\n      <td>-0.177965</td>\n      <td>-0.067495</td>\n      <td>-0.163161</td>\n    </tr>\n    <tr>\n      <th>1</th>\n      <td>0.605027</td>\n      <td>1.554343</td>\n      <td>-0.434619</td>\n      <td>0.190621</td>\n      <td>-1.033729</td>\n      <td>-0.156044</td>\n      <td>-0.421950</td>\n      <td>-0.085054</td>\n      <td>-0.125251</td>\n      <td>-0.071543</td>\n    </tr>\n    <tr>\n      <th>2</th>\n      <td>2.801549</td>\n      <td>-0.122632</td>\n      <td>-0.414510</td>\n      <td>-0.263449</td>\n      <td>0.446730</td>\n      <td>-0.507376</td>\n      <td>-0.291290</td>\n      <td>-0.084116</td>\n      <td>0.162350</td>\n      <td>0.181756</td>\n    </tr>\n    <tr>\n      <th>3</th>\n      <td>0.259204</td>\n      <td>-2.364265</td>\n      <td>-0.095090</td>\n      <td>-0.505929</td>\n      <td>0.552199</td>\n      <td>-0.035541</td>\n      <td>-0.058233</td>\n      <td>-0.188187</td>\n      <td>-0.101924</td>\n      <td>-0.166531</td>\n    </tr>\n    <tr>\n      <th>4</th>\n      <td>-2.032508</td>\n      <td>-0.774822</td>\n      <td>-1.016381</td>\n      <td>0.081071</td>\n      <td>0.200412</td>\n      <td>0.163234</td>\n      <td>0.285340</td>\n      <td>0.116682</td>\n      <td>-0.108244</td>\n      <td>-0.181168</td>\n    </tr>\n    <tr>\n      <th>5</th>\n      <td>0.204867</td>\n      <td>-2.778790</td>\n      <td>0.093328</td>\n      <td>-0.995552</td>\n      <td>0.227545</td>\n      <td>-0.323183</td>\n      <td>-0.150440</td>\n      <td>-0.045932</td>\n      <td>-0.154474</td>\n      <td>0.033869</td>\n    </tr>\n    <tr>\n      <th>6</th>\n      <td>-2.846324</td>\n      <td>0.318210</td>\n      <td>-0.324108</td>\n      <td>-0.053138</td>\n      <td>0.423729</td>\n      <td>0.686200</td>\n      <td>-0.201259</td>\n      <td>0.179319</td>\n      <td>0.362386</td>\n      <td>-0.195036</td>\n    </tr>\n    <tr>\n      <th>7</th>\n      <td>1.938647</td>\n      <td>-1.454239</td>\n      <td>0.955656</td>\n      <td>-0.138849</td>\n      <td>-0.349183</td>\n      <td>0.073207</td>\n      <td>0.641096</td>\n      <td>-0.374506</td>\n      <td>0.239646</td>\n      <td>-0.031233</td>\n    </tr>\n    <tr>\n      <th>8</th>\n      <td>2.300271</td>\n      <td>-1.963602</td>\n      <td>1.751220</td>\n      <td>0.299541</td>\n      <td>-0.408112</td>\n      <td>-0.255902</td>\n      <td>0.542837</td>\n      <td>0.935339</td>\n      <td>-0.061213</td>\n      <td>-0.130912</td>\n    </tr>\n    <tr>\n      <th>9</th>\n      <td>0.636986</td>\n      <td>-0.150858</td>\n      <td>1.434045</td>\n      <td>0.066155</td>\n      <td>0.010042</td>\n      <td>0.845973</td>\n      <td>0.168722</td>\n      <td>-0.543588</td>\n      <td>-0.260493</td>\n      <td>0.124549</td>\n    </tr>\n    <tr>\n      <th>10</th>\n      <td>0.712003</td>\n      <td>-0.308009</td>\n      <td>1.571549</td>\n      <td>0.090629</td>\n      <td>-0.062764</td>\n      <td>0.746137</td>\n      <td>0.155767</td>\n      <td>-0.340193</td>\n      <td>-0.343927</td>\n      <td>0.071815</td>\n    </tr>\n    <tr>\n      <th>11</th>\n      <td>-2.168500</td>\n      <td>-0.698349</td>\n      <td>-0.318649</td>\n      <td>-0.132449</td>\n      <td>-0.380210</td>\n      <td>0.193121</td>\n      <td>-0.104051</td>\n      <td>0.091823</td>\n      <td>-0.060831</td>\n      <td>0.389843</td>\n    </tr>\n    <tr>\n      <th>12</th>\n      <td>-2.013998</td>\n      <td>-0.698920</td>\n      <td>-0.409019</td>\n      <td>-0.213513</td>\n      <td>-0.353604</td>\n      <td>0.312365</td>\n      <td>-0.096477</td>\n      <td>0.288854</td>\n      <td>-0.115464</td>\n      <td>0.184484</td>\n    </tr>\n    <tr>\n      <th>13</th>\n      <td>-1.983030</td>\n      <td>-0.811307</td>\n      <td>-0.297320</td>\n      <td>-0.184076</td>\n      <td>-0.409623</td>\n      <td>0.223378</td>\n      <td>-0.106863</td>\n      <td>0.405446</td>\n      <td>-0.167143</td>\n      <td>0.176943</td>\n    </tr>\n    <tr>\n      <th>14</th>\n      <td>-3.540037</td>\n      <td>-0.841191</td>\n      <td>0.646830</td>\n      <td>0.299781</td>\n      <td>-0.144468</td>\n      <td>-0.895457</td>\n      <td>-0.091503</td>\n      <td>-0.234988</td>\n      <td>0.052358</td>\n      <td>-0.258041</td>\n    </tr>\n    <tr>\n      <th>15</th>\n      <td>-3.597893</td>\n      <td>-0.747153</td>\n      <td>0.725851</td>\n      <td>0.417433</td>\n      <td>-0.092404</td>\n      <td>-0.875780</td>\n      <td>-0.121889</td>\n      <td>-0.248904</td>\n      <td>0.121949</td>\n      <td>-0.036876</td>\n    </tr>\n    <tr>\n      <th>16</th>\n      <td>-3.493731</td>\n      <td>-0.445347</td>\n      <td>0.702793</td>\n      <td>0.696399</td>\n      <td>0.074896</td>\n      <td>-0.605711</td>\n      <td>-0.147697</td>\n      <td>-0.182902</td>\n      <td>0.201483</td>\n      <td>0.145296</td>\n    </tr>\n    <tr>\n      <th>17</th>\n      <td>3.329571</td>\n      <td>-0.292943</td>\n      <td>-0.277423</td>\n      <td>0.073323</td>\n      <td>0.112670</td>\n      <td>-0.421673</td>\n      <td>-0.305017</td>\n      <td>0.070160</td>\n      <td>-0.116413</td>\n      <td>0.129409</td>\n    </tr>\n    <tr>\n      <th>18</th>\n      <td>3.883988</td>\n      <td>0.704290</td>\n      <td>-0.202656</td>\n      <td>1.186911</td>\n      <td>0.133843</td>\n      <td>0.540753</td>\n      <td>-0.410649</td>\n      <td>-0.133756</td>\n      <td>-0.228625</td>\n      <td>-0.282043</td>\n    </tr>\n    <tr>\n      <th>19</th>\n      <td>3.636227</td>\n      <td>-0.276133</td>\n      <td>-0.292044</td>\n      <td>0.206366</td>\n      <td>0.113590</td>\n      <td>-0.245487</td>\n      <td>-0.304007</td>\n      <td>0.365579</td>\n      <td>-0.231154</td>\n      <td>-0.056534</td>\n    </tr>\n    <tr>\n      <th>20</th>\n      <td>1.962264</td>\n      <td>-2.101797</td>\n      <td>0.030140</td>\n      <td>0.037593</td>\n      <td>0.162210</td>\n      <td>0.672144</td>\n      <td>-0.164937</td>\n      <td>0.306503</td>\n      <td>0.606158</td>\n      <td>-0.031204</td>\n    </tr>\n    <tr>\n      <th>21</th>\n      <td>-2.048033</td>\n      <td>-1.026281</td>\n      <td>-1.177374</td>\n      <td>-0.604969</td>\n      <td>-0.181947</td>\n      <td>0.089924</td>\n      <td>0.225311</td>\n      <td>-0.162343</td>\n      <td>-0.117839</td>\n      <td>-0.019935</td>\n    </tr>\n    <tr>\n      <th>22</th>\n      <td>-1.682576</td>\n      <td>-0.913388</td>\n      <td>-1.014237</td>\n      <td>-0.008073</td>\n      <td>-0.183926</td>\n      <td>0.270837</td>\n      <td>0.220226</td>\n      <td>0.061937</td>\n      <td>-0.246339</td>\n      <td>0.014154</td>\n    </tr>\n    <tr>\n      <th>23</th>\n      <td>-2.658623</td>\n      <td>0.669277</td>\n      <td>-0.184127</td>\n      <td>0.821191</td>\n      <td>0.509528</td>\n      <td>0.897013</td>\n      <td>-0.185740</td>\n      <td>-0.017670</td>\n      <td>0.359389</td>\n      <td>0.101728</td>\n    </tr>\n    <tr>\n      <th>24</th>\n      <td>-2.354816</td>\n      <td>-0.899123</td>\n      <td>-0.869987</td>\n      <td>0.161906</td>\n      <td>0.233469</td>\n      <td>-0.171734</td>\n      <td>0.331052</td>\n      <td>-0.079515</td>\n      <td>-0.075497</td>\n      <td>-0.191597</td>\n    </tr>\n    <tr>\n      <th>25</th>\n      <td>3.358263</td>\n      <td>-0.103399</td>\n      <td>-0.514251</td>\n      <td>-0.018818</td>\n      <td>0.222321</td>\n      <td>-0.208830</td>\n      <td>-0.282955</td>\n      <td>-0.022693</td>\n      <td>-0.058105</td>\n      <td>0.031465</td>\n    </tr>\n    <tr>\n      <th>26</th>\n      <td>2.440051</td>\n      <td>2.057439</td>\n      <td>-0.881101</td>\n      <td>0.568156</td>\n      <td>-0.621810</td>\n      <td>-0.300175</td>\n      <td>1.030298</td>\n      <td>0.014321</td>\n      <td>0.403521</td>\n      <td>0.121686</td>\n    </tr>\n    <tr>\n      <th>27</th>\n      <td>2.946328</td>\n      <td>1.383718</td>\n      <td>-0.355847</td>\n      <td>-1.159294</td>\n      <td>0.678108</td>\n      <td>-0.024936</td>\n      <td>0.467431</td>\n      <td>-0.239450</td>\n      <td>0.166930</td>\n      <td>-0.100088</td>\n    </tr>\n    <tr>\n      <th>28</th>\n      <td>-1.212566</td>\n      <td>3.498277</td>\n      <td>-0.197467</td>\n      <td>0.600021</td>\n      <td>1.124186</td>\n      <td>-0.342886</td>\n      <td>0.664866</td>\n      <td>0.153216</td>\n      <td>-0.426021</td>\n      <td>0.129397</td>\n    </tr>\n    <tr>\n      <th>29</th>\n      <td>0.014182</td>\n      <td>3.221361</td>\n      <td>0.374340</td>\n      <td>-0.959536</td>\n      <td>-0.853213</td>\n      <td>0.081124</td>\n      <td>0.024243</td>\n      <td>-0.114836</td>\n      <td>0.137882</td>\n      <td>-0.052590</td>\n    </tr>\n    <tr>\n      <th>30</th>\n      <td>-2.541137</td>\n      <td>4.366990</td>\n      <td>1.428770</td>\n      <td>-0.874904</td>\n      <td>0.415883</td>\n      <td>-0.011549</td>\n      <td>-0.409474</td>\n      <td>0.456812</td>\n      <td>0.026336</td>\n      <td>-0.091492</td>\n    </tr>\n    <tr>\n      <th>31</th>\n      <td>2.512210</td>\n      <td>0.258768</td>\n      <td>0.226798</td>\n      <td>0.214592</td>\n      <td>0.361254</td>\n      <td>-0.464676</td>\n      <td>-0.501820</td>\n      <td>-0.169392</td>\n      <td>0.226064</td>\n      <td>0.223587</td>\n    </tr>\n  </tbody>\n</table>\n</div>"
     },
     "metadata": {},
     "execution_count": 57
    }
   ],
   "source": [
    "from sklearn.decomposition import PCA # 변수축소 - PCA\n",
    "\n",
    "componentsNum=10\n",
    "printcipalComponents = PCA(n_components=componentsNum).fit_transform(pcaDf)\n",
    "principalDf = pd.DataFrame(\n",
    "    data=printcipalComponents, \n",
    "    columns = ['component'+str(x) for x in range(componentsNum)]\n",
    "    ) ; principalDf"
   ]
  },
  {
   "cell_type": "code",
   "execution_count": 58,
   "metadata": {},
   "outputs": [],
   "source": [
    "componentDf = pd.DataFrame(\n",
    "    pca.explained_variance_ratio_,\n",
    "    columns=['cumsumVariance']).cumsum().reset_index()\n",
    "componentDf['index'] +=1\n",
    "componentDf=componentDf.rename(columns={'index':'componentsCount'})"
   ]
  },
  {
   "cell_type": "code",
   "execution_count": 59,
   "metadata": {},
   "outputs": [
    {
     "output_type": "execute_result",
     "data": {
      "text/plain": [
       "   componentsCount  cumsumVariance\n",
       "0                1        0.576022\n",
       "1                2        0.840986\n",
       "2                3        0.900708\n",
       "3                4        0.927658\n",
       "4                5        0.949883\n",
       "5                6        0.970895\n",
       "6                7        0.984187\n",
       "7                8        0.992255\n",
       "8                9        0.997620\n",
       "9               10        1.000000"
      ],
      "text/html": "<div>\n<style scoped>\n    .dataframe tbody tr th:only-of-type {\n        vertical-align: middle;\n    }\n\n    .dataframe tbody tr th {\n        vertical-align: top;\n    }\n\n    .dataframe thead th {\n        text-align: right;\n    }\n</style>\n<table border=\"1\" class=\"dataframe\">\n  <thead>\n    <tr style=\"text-align: right;\">\n      <th></th>\n      <th>componentsCount</th>\n      <th>cumsumVariance</th>\n    </tr>\n  </thead>\n  <tbody>\n    <tr>\n      <th>0</th>\n      <td>1</td>\n      <td>0.576022</td>\n    </tr>\n    <tr>\n      <th>1</th>\n      <td>2</td>\n      <td>0.840986</td>\n    </tr>\n    <tr>\n      <th>2</th>\n      <td>3</td>\n      <td>0.900708</td>\n    </tr>\n    <tr>\n      <th>3</th>\n      <td>4</td>\n      <td>0.927658</td>\n    </tr>\n    <tr>\n      <th>4</th>\n      <td>5</td>\n      <td>0.949883</td>\n    </tr>\n    <tr>\n      <th>5</th>\n      <td>6</td>\n      <td>0.970895</td>\n    </tr>\n    <tr>\n      <th>6</th>\n      <td>7</td>\n      <td>0.984187</td>\n    </tr>\n    <tr>\n      <th>7</th>\n      <td>8</td>\n      <td>0.992255</td>\n    </tr>\n    <tr>\n      <th>8</th>\n      <td>9</td>\n      <td>0.997620</td>\n    </tr>\n    <tr>\n      <th>9</th>\n      <td>10</td>\n      <td>1.000000</td>\n    </tr>\n  </tbody>\n</table>\n</div>"
     },
     "metadata": {},
     "execution_count": 59
    }
   ],
   "source": [
    "componentDf"
   ]
  },
  {
   "source": [
    "mtcars 의 index는 (업체명) - (모델명)으로 구성된다. (valiant는 업체명) mtcars에 'brand' 컬럼을 추가하고 value 값으로 업체명을 입력하라"
   ],
   "cell_type": "markdown",
   "metadata": {}
  },
  {
   "cell_type": "code",
   "execution_count": 60,
   "metadata": {},
   "outputs": [
    {
     "output_type": "execute_result",
     "data": {
      "text/plain": [
       "0               Mazda RX4\n",
       "1           Mazda RX4 Wag\n",
       "2              Datsun 710\n",
       "3          Hornet 4 Drive\n",
       "4       Hornet Sportabout\n",
       "5                 Valiant\n",
       "6              Duster 360\n",
       "7               Merc 240D\n",
       "8                Merc 230\n",
       "9                Merc 280\n",
       "10              Merc 280C\n",
       "11             Merc 450SE\n",
       "12             Merc 450SL\n",
       "13            Merc 450SLC\n",
       "14     Cadillac Fleetwood\n",
       "15    Lincoln Continental\n",
       "16      Chrysler Imperial\n",
       "17               Fiat 128\n",
       "18            Honda Civic\n",
       "19         Toyota Corolla\n",
       "20          Toyota Corona\n",
       "21       Dodge Challenger\n",
       "22            AMC Javelin\n",
       "23             Camaro Z28\n",
       "24       Pontiac Firebird\n",
       "25              Fiat X1-9\n",
       "26          Porsche 914-2\n",
       "27           Lotus Europa\n",
       "28         Ford Pantera L\n",
       "29           Ferrari Dino\n",
       "30          Maserati Bora\n",
       "31             Volvo 142E\n",
       "Name: Unnamed: 0, dtype: object"
      ]
     },
     "metadata": {},
     "execution_count": 60
    }
   ],
   "source": [
    "df.iloc[:,0] # index"
   ]
  },
  {
   "cell_type": "code",
   "execution_count": 62,
   "metadata": {},
   "outputs": [
    {
     "output_type": "execute_result",
     "data": {
      "text/plain": [
       "0        Mazda\n",
       "1        Mazda\n",
       "2       Datsun\n",
       "3       Hornet\n",
       "4       Hornet\n",
       "5      Valiant\n",
       "6       Duster\n",
       "7         Merc\n",
       "8         Merc\n",
       "9         Merc\n",
       "10        Merc\n",
       "11        Merc\n",
       "12        Merc\n",
       "13        Merc\n",
       "14    Cadillac\n",
       "15     Lincoln\n",
       "16    Chrysler\n",
       "17        Fiat\n",
       "18       Honda\n",
       "19      Toyota\n",
       "20      Toyota\n",
       "21       Dodge\n",
       "22         AMC\n",
       "23      Camaro\n",
       "24     Pontiac\n",
       "25        Fiat\n",
       "26     Porsche\n",
       "27       Lotus\n",
       "28        Ford\n",
       "29     Ferrari\n",
       "30    Maserati\n",
       "31       Volvo\n",
       "Name: 0, dtype: object"
      ]
     },
     "metadata": {},
     "execution_count": 62
    }
   ],
   "source": [
    " pd.DataFrame(list(df.iloc[:,0].str.split(' ')))[0]"
   ]
  },
  {
   "cell_type": "code",
   "execution_count": 69,
   "metadata": {},
   "outputs": [],
   "source": [
    "df['brand'] = pd.DataFrame(list(df.index.str.split(\" \")))[0]\n",
    "#df['brand']"
   ]
  }
 ]
}